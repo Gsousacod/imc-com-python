{
 "cells": [
  {
   "cell_type": "code",
   "execution_count": 28,
   "id": "7601cff0",
   "metadata": {},
   "outputs": [
    {
     "name": "stdout",
     "output_type": "stream",
     "text": [
      ">>>>>>>>>>>>>>>>>>>>>>>>>>>>>>>>>>>>>>>>\n",
      "Bem-Vindo a calculadora de IMC.\n",
      ">>>>>>>>>>>>>>>>>>>>>>>>>>>>>>>>>>>>>>>>\n",
      "Primeiro informe seu nome:\n",
      "Gabriel\n",
      "carregando.....\n",
      ">>>>>>>>>>>>>>>>>>>>>>>>>>>>>>>>>>>>>>>>\n",
      "Agora informe sua altura:1.80\n",
      "carregando.....\n",
      ">>>>>>>>>>>>>>>>>>>>>>>>>>>>>>>>>>>>>>>>\n",
      "Agora informe seu peso:70\n",
      "carregando.....\n",
      ">>>>>>>>>>>>>>>>>>>>>>>>>>>>>>>>>>>>>>>>\n",
      "Gabriel, O seu IMC é de 21.60\n",
      ">>>>>>>>>>>>>>>>>>>>>>>>>>>>>>>>>>>>>>>>\n"
     ]
    }
   ],
   "source": [
    "import time\n",
    "\n",
    "\n",
    "print(\">>\"*20)\n",
    "print('Bem-Vindo a calculadora de IMC.')\n",
    "print(\">>\"*20)\n",
    "time.sleep(2)\n",
    "\n",
    "\n",
    "print('Primeiro informe seu nome:')\n",
    "nome = input()\n",
    "print('carregando.....')\n",
    "print(\">>\"*20)\n",
    "\n",
    "time.sleep(1)\n",
    "\n",
    "altura = float(input(\"Agora informe sua altura:\"))\n",
    "print('carregando.....')\n",
    "print(\">>\"*20)\n",
    "time.sleep(1)\n",
    "\n",
    "\n",
    "peso = float(input('Agora informe seu peso:'))\n",
    "print('carregando.....')\n",
    "print(\">>\"*20)\n",
    "time.sleep(1)\n",
    "\n",
    "\n",
    "print(f'{nome}, O seu IMC é de {peso/altura**2:.2f}')\n",
    "print(\">>\"*20)\n"
   ]
  }
 ],
 "metadata": {
  "kernelspec": {
   "display_name": "Python 3 (ipykernel)",
   "language": "python",
   "name": "python3"
  },
  "language_info": {
   "codemirror_mode": {
    "name": "ipython",
    "version": 3
   },
   "file_extension": ".py",
   "mimetype": "text/x-python",
   "name": "python",
   "nbconvert_exporter": "python",
   "pygments_lexer": "ipython3",
   "version": "3.9.12"
  }
 },
 "nbformat": 4,
 "nbformat_minor": 5
}
